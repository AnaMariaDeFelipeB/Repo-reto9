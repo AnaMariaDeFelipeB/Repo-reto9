{
 "cells": [
  {
   "attachments": {},
   "cell_type": "markdown",
   "metadata": {},
   "source": [
    "Reto 9. "
   ]
  },
  {
   "attachments": {},
   "cell_type": "markdown",
   "metadata": {},
   "source": [
    "PUNTO 1"
   ]
  },
  {
   "cell_type": "code",
   "execution_count": 89,
   "metadata": {},
   "outputs": [
    {
     "name": "stdout",
     "output_type": "stream",
     "text": [
      "El área del rectangulo ingresado es: 16 \n",
      " Y el perimetro es: 16\n"
     ]
    }
   ],
   "source": [
    "# Función matemática para calcular el área y el perimetro de un rectangulo. (Reto 6)\n",
    "\n",
    "if __name__ == \"__main__\": # Permite ejecutar la función. \n",
    "    lado1: int = int(input(\"Ingrese lado 1: \")) # Pide al usuario ingresar número. \n",
    "    lado2 : int = int(input(\"Ingrese lado 2: \")) # Pide al usuario ingresar número.  \n",
    "\n",
    "    area = (lambda x, y: x*y)(lado1, lado2) # Definimos función anónima. \n",
    "    perimetro = (lambda x, y: 2*(x+y))(lado1, lado2) # Definimos función anónima.  \n",
    "\n",
    "    print(\"El área del rectangulo ingresado es: \" + str(area) + \" \\n Y el perimetro es: \" + str(perimetro)) # Imprime"
   ]
  },
  {
   "cell_type": "code",
   "execution_count": 4,
   "metadata": {},
   "outputs": [
    {
     "name": "stdout",
     "output_type": "stream",
     "text": [
      "Partiendo de 56 contagiados después de 7 días habrá un total de 184 contagiados\n"
     ]
    }
   ],
   "source": [
    "# Función para calcular el número total de personas que se han contagiado cuando pasen D días a partir de hoy, si el número de contagiados actuales es C.\n",
    "\n",
    "if __name__ == \"__main__\": # Permite ejecutar la función. \n",
    "    c : int = int(input(\"Ingrese población infectada actualmente: \")) # Pide al usuario ingresar número. \n",
    "    d : int = int(input(\"Ingrese días a partir de hoy: \")) # Pide al usuario ingresar número. \n",
    "\n",
    "    contagios = (lambda x, z: x+(2**z))(c,d) # Definimos función anónima. \n",
    "\n",
    "\n",
    "    print(\"Partiendo de \" + str(c) + \" contagiados después de \"+ str(d) + \" días habrá un total de \" + str(contagios) + \" contagiados\") # Imprime"
   ]
  },
  {
   "cell_type": "code",
   "execution_count": 9,
   "metadata": {},
   "outputs": [
    {
     "name": "stdout",
     "output_type": "stream",
     "text": [
      "El volumen y area de la esfera es 523.6 y 314.16 respectivamente.\n"
     ]
    }
   ],
   "source": [
    "# Función para calcular el volumen y area superficial de una esfera\n",
    "\n",
    "import math # Importamos función de matematicas. \n",
    "pi = math.pi # Llamamos a la función. \n",
    "\n",
    "if __name__ == \"__main__\": # Permite ejecutar la función. \n",
    "    r : int = int(input(\"Ingrese radio: \")) # Pide al usuario ingresar número. \n",
    "\n",
    "    volumen = (lambda x: (4/3)*pi*(x**3)) (r) # Definimos función anónima. \n",
    "    superfie = (lambda x: 4*pi*(r**2)) (r) # Definimos función anónima. \n",
    "\n",
    "print(\"El volumen y area de la esfera es \" + str(round(volumen, 2)) + \" y \" + str(round(superfie, 2)) + \" respectivamente.\") # Imprime\n"
   ]
  },
  {
   "attachments": {},
   "cell_type": "markdown",
   "metadata": {},
   "source": [
    "Punto 2"
   ]
  },
  {
   "cell_type": "code",
   "execution_count": 13,
   "metadata": {},
   "outputs": [
    {
     "name": "stdout",
     "output_type": "stream",
     "text": [
      "El promedio de los dos primeros números es: 4.5\n",
      "El promedio de los tres primeros números es: 5.0\n",
      "El promedio de los cuatro primeros números es: 5.5\n",
      "El promedio de números es: 6.0\n"
     ]
    }
   ],
   "source": [
    "# Función para calcular el promedio de 5 números. \n",
    "\n",
    "def promedio (*args) -> float: # Definimos la función con argumentos. \n",
    "    sum : int = 0 # Establecemos valor variable. (Esta equivaldra a las actualizaciones que se le irán haciendo)\n",
    "\n",
    "    for numeros in args: # Establecemos un for que itere los datos del argumento.  \n",
    "        sum += numeros # Actualiza (Va a sumar los datos del argumento). \n",
    "    \n",
    "    media = sum/(len(args)) # Opera. (Saca promedio)\n",
    "\n",
    "    return media # Devuelve la operación. \n",
    "\n",
    "if __name__ == \"__main__\": # Permite ejecutar la función. \n",
    "    a: int = int(input(\"Ingrese número: \"))  # Definimos variable para ingresar en el argumento. \n",
    "    b: int = int(input(\"Ingrese número: \"))   \n",
    "    c: int = int(input(\"Ingrese número: \"))  \n",
    "    d: int = int(input(\"Ingrese número: \"))  \n",
    "    e: int = int(input(\"Ingrese número: \"))  \n",
    "    \n",
    "    print(\"El promedio de los dos primeros números es: \" + str(promedio(a,b)))  # Imprime la función con los argumentos que definimos. \n",
    "    print(\"El promedio de los tres primeros números es: \" + str(promedio(a,b,c)))  \n",
    "    print(\"El promedio de los cuatro primeros números es: \" + str(promedio(a,b,c,d)))  \n",
    "    print(\"El promedio de números es: \" + str(promedio(a,b,c,d,e))) "
   ]
  },
  {
   "cell_type": "code",
   "execution_count": 8,
   "metadata": {},
   "outputs": [
    {
     "name": "stdout",
     "output_type": "stream",
     "text": [
      "El factorial del número es: 24\n"
     ]
    }
   ],
   "source": [
    "# Función que calcuale el factorial\n",
    "\n",
    "def factorial (*args) -> int: # Definimos la función con argumentos. \n",
    "\n",
    "\n",
    "    for numero in args: # Establecemos un for que itere los datos del argumento.  \n",
    "        sum : int = 1  # Definimos variable. \n",
    "        factoriales : int = 1  # Definimos variable. \n",
    "        while numero >= sum:   #Establecemos condición. (Mientras que el valor de numero sea mayor o igual a sum)\n",
    "            factoriales *= sum  # Si cumple lo anterior, va actualizar la variable multiplicando sum al valor de factoriales almacenado. \n",
    "            sum +=1 # Actualiza. \n",
    "\n",
    "\n",
    "    return factoriales # Devuelve \n",
    "\n",
    "\n",
    "if __name__ == \"__main__\":  # Permite ejecutar la función. \n",
    "    a : int = int(input(\"Ingrese número: \")) # Definimos variable para ingresar en el argumento. \n",
    "    print(\"El factorial del número es: \" + str(factorial(a))) # Imprime la función con los argumentos que definimos.\n",
    "\n",
    "\n",
    "\n"
   ]
  },
  {
   "cell_type": "code",
   "execution_count": 27,
   "metadata": {},
   "outputs": [
    {
     "name": "stdout",
     "output_type": "stream",
     "text": [
      "El cuadrado del número es 25\n",
      "El cuadrado del número es 36\n",
      "El cuadrado del número es 49\n",
      "El cuadrado del número es 64\n",
      "None\n"
     ]
    }
   ],
   "source": [
    "# Función que eleve al cuadrado. \n",
    "\n",
    "def elevarNúmerosAlCuadrado (*args) -> int: #Definimos la función con argumentos. \n",
    "\n",
    "    lista = [] # Generamos una lista vacia. \n",
    "    for numeros in range(*args): # Usando \"for\" va a iterar los números de 0 hasta el valor dado en el argumento. \n",
    "        num = int(input(\"Ingresar número: \"))  # Por cada iteración va a pedir ingresar un número. \n",
    "        lista.append(num)  # Va agregar el número a la lista. \n",
    "\n",
    "    for datos in lista: # Va iterar todos los números de la lista. \n",
    "        elevar = datos**2 # Por cada iteración va a elevar valor al cuadrado. \n",
    "        print(\"El cuadrado del número es \" + str(elevar))  # Imprime el valor.\n",
    "\n",
    "\n",
    "if __name__ == \"__main__\": # Permite ejecutar la función. \n",
    "    a = int(input(\"Ingrese cantidad de números\")) # Definimos variable para ingresar en el argumento. \n",
    "    print(elevarNúmerosAlCuadrado(a)) # Imprime la función con los argumentos que definimos.\n",
    "\n"
   ]
  },
  {
   "attachments": {},
   "cell_type": "markdown",
   "metadata": {},
   "source": [
    "PUNTO 3"
   ]
  },
  {
   "cell_type": "code",
   "execution_count": 88,
   "metadata": {},
   "outputs": [
    {
     "name": "stdout",
     "output_type": "stream",
     "text": [
      "El número 2 a la 5 es 32\n"
     ]
    }
   ],
   "source": [
    "def potenciaRecursiva (n:int, x:int)-> int: # Definimos la función. \n",
    "  if x == 1: # Establecemos condición. (Que x sea igual a 1)\n",
    "    return n # Si cumple la condición, va a devolver el valor de n. \n",
    "  return n*potenciaRecursiva(n, x-1) # Hasta que no cumpla la condición va a repetir la multpiplicación de n entre n. Y de paso va actualizar a x, restandole 1. \n",
    "\n",
    "if __name__ == \"__main__\": # Permite ejecutar la función. \n",
    "  n = int(input(\"Ingrese base: \")) # Definimos variable para ingresar en el argumento. \n",
    "  x = int(input(\"Ingrese exponente: \")) # Definimos variable para ingresar en el argumento. \n",
    "  potencia1 = potenciaRecursiva(n,x) # Llamamos la función mediante una variable. \n",
    "  print(\"El número \" + str(n) + \" a la \" + str(x) + \" es \" + str(potencia1))  # Imprime. "
   ]
  },
  {
   "attachments": {},
   "cell_type": "markdown",
   "metadata": {},
   "source": [
    "PUNTO 4"
   ]
  },
  {
   "cell_type": "code",
   "execution_count": 48,
   "metadata": {},
   "outputs": [
    {
     "name": "stdout",
     "output_type": "stream",
     "text": [
      "El último número de la serie de Fibonacci hasta 33 es 5702887\n",
      "La serie de Fibonacci hasta 33 es 5702887\n",
      "fiboRecursivo se demoró 1.8914785385131836 en correr\n",
      "La función normal se demoró 0.7670109272003174 en correr\n"
     ]
    }
   ],
   "source": [
    "import time # Llama la función. \n",
    "\n",
    "# Tiempo función recursiva. \n",
    "start_time = time.time() # Comienza a contar el tiempo. \n",
    "\n",
    "# Comienza a funcionar el código. \n",
    "def fiboRecursivo(n : int )-> int:\n",
    "    if n <=1:\n",
    "        # caso base\n",
    "        return 1\n",
    "    else:\n",
    "        # condicion\n",
    "        return fiboRecursivo(n-1)+fiboRecursivo(n-2)  \n",
    "    \n",
    "if __name__ == \"__main__\":\n",
    "  num = int(input(\"Ingrese numero: \"))\n",
    "  serieFibo = fiboRecursivo(num)\n",
    "  print(\"El último número de la serie de Fibonacci hasta \" + str(num) + \" es \" + str(serieFibo))\n",
    "\n",
    "# termina de funcionar el código. \n",
    "end_time = time.time() # Detiene el tiempo\n",
    "timer = end_time - start_time # El tiempo total es la resta entre el tiempo final, menos el tiempo inicial. \n",
    "\n",
    "\n",
    "\n",
    "\n",
    "\n",
    "# Tiempo función normal. \n",
    "start_time = time.time()\n",
    "\n",
    "# Comienza a funcionar el código\n",
    "def fibo(n : int )-> int:\n",
    "  i : int = 1\n",
    "  # caso base\n",
    "  n1 : int = 0\n",
    "  n2 : int = 1\n",
    "  while(i <= n):\n",
    "    # Condicion\n",
    "    sumFibo = n1 + n2\n",
    "    # Actualizacion\n",
    "    n1 = n2\n",
    "    n2 = sumFibo\n",
    "    i += 1\n",
    "  return sumFibo\n",
    "\n",
    "if __name__ == \"__main__\":\n",
    "  num = int(input(\"Ingrese numero: \"))\n",
    "  serieFibo = fibo(num)\n",
    "  print(\"La serie de Fibonacci hasta \" + str(num) + \" es \" + str(serieFibo))\n",
    "  \n",
    "# termina de funcionar el código. \n",
    "end_time = time.time() # Detiene el tiempo\n",
    "timer2 = end_time - start_time # El tiempo total es la resta entre el tiempo final, menos el tiempo inicial. \n",
    "\n",
    "\n",
    "\n",
    "print(\"fiboRecursivo se demoró \" + str(timer) +  \" en correr\") # Imprime. (Valor del primer timer)\n",
    "print(\"La función normal se demoró \" + str(timer2) +  \" en correr\") # Imprime. (Valor del segundo timer)\n",
    "\n",
    "\n",
    "\n",
    "\n",
    "# A partir de valores de 34 hacia arriba la diferencia comienza a ser significativa. \n",
    "\n"
   ]
  }
 ],
 "metadata": {
  "kernelspec": {
   "display_name": "Python 3",
   "language": "python",
   "name": "python3"
  },
  "language_info": {
   "codemirror_mode": {
    "name": "ipython",
    "version": 3
   },
   "file_extension": ".py",
   "mimetype": "text/x-python",
   "name": "python",
   "nbconvert_exporter": "python",
   "pygments_lexer": "ipython3",
   "version": "3.11.2"
  },
  "orig_nbformat": 4
 },
 "nbformat": 4,
 "nbformat_minor": 2
}
